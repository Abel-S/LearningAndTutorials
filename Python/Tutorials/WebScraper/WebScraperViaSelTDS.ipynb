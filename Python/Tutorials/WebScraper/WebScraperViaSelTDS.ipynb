{
 "cells": [
  {
   "cell_type": "code",
   "execution_count": 4,
   "id": "2fa8658c-846b-4a6e-a02d-62fc708d9e96",
   "metadata": {},
   "outputs": [
    {
     "name": "stdout",
     "output_type": "stream",
     "text": [
      "1174\n",
      "1154\n"
     ]
    }
   ],
   "source": [
    "#Name: Abel\n",
    "#Date: 2021/07/27\n",
    "#Purpose: To learn the basics to using Selenium for dynamic web scraping - Scraping NBA Player names and Salaries from Hoopshype.com\n",
    "#Reference: https://towardsdatascience.com/how-to-use-selenium-to-web-scrape-with-example-80f9b23a843a\n",
    "\n",
    "import time\n",
    "from selenium import webdriver\n",
    "from selenium.webdriver.common.keys import Keys\n",
    "import pandas as pd\n",
    "\n",
    "df = pd.DataFrame(columns=['Player','Salary','Year']) # creates master dataframe \n",
    "driver = webdriver.Chrome()  # Optional argument, if not specified will search path.\n",
    "\n",
    "for yr in range(2017,2019): #for looping into each year\n",
    "    page_num = str(yr) + '-' + str(yr+1) +'/'\n",
    "    url = 'https://hoopshype.com/salaries/players/' + page_num\n",
    "    driver.get(url)\n",
    "    time.sleep(5) # Let the user actually see something!\n",
    "\n",
    "    #An XPath is a syntax used for finding any element on a webpage\n",
    "    players = driver.find_elements_by_xpath('//td[@class=\"name\"]') #Look for all instances of <td> that contain class='name'\n",
    "    salaries = driver.find_elements_by_xpath('//td[@class=\"hh-salaries-sorted\"]')\n",
    "\n",
    "    print (len(players)) # sanity check\n",
    "    players_list = []\n",
    "    for p in range(len(players)):\n",
    "        players_list.append(players[p].text) #'.text' to just extract the text\n",
    "\n",
    "    salaries_list = []\n",
    "    for s in range(len(salaries)):\n",
    "        salaries_list.append(salaries[s].text)\n",
    "\n",
    "    data_tuples = list(zip(players_list[1:],salaries_list[1:])) # list of each players name and salary paired together\n",
    "    temp_df = pd.DataFrame(data_tuples, columns=['Player','Salary']) # creates dataframe of each tuple in list\n",
    "    temp_df['Year'] = yr # adds season beginning year to each dataframe\n",
    "    df = df.append(temp_df) # appends to master dataframe\n",
    "\n",
    "driver.close()"
   ]
  },
  {
   "cell_type": "code",
   "execution_count": 5,
   "id": "8b312ae2-8215-48c9-b7f4-b2c2c0940f5a",
   "metadata": {},
   "outputs": [
    {
     "name": "stdout",
     "output_type": "stream",
     "text": [
      "(2326, 3)\n",
      "   Player       Salary  Year\n",
      "0          $34,682,550  2017\n",
      "1          $33,285,709  2017\n",
      "2          $30,769,231  2017\n",
      "3          $29,727,900  2017\n",
      "4          $29,512,900  2017\n",
      "5          $28,903,704  2017\n",
      "6          $28,530,608  2017\n",
      "7          $28,299,399  2017\n",
      "8          $28,299,399  2017\n",
      "9          $27,739,975  2017\n",
      "10         $27,734,405  2017\n",
      "11         $26,243,760  2017\n",
      "12         $26,153,057  2017\n",
      "13         $25,686,667  2017\n",
      "14         $25,289,390  2017\n",
      "15         $25,000,000  2017\n",
      "16         $24,773,250  2017\n",
      "17         $24,268,959  2017\n",
      "18         $23,962,573  2017\n",
      "19         $23,775,506  2017\n",
      "20         $23,775,506  2017\n",
      "21         $23,775,506  2017\n",
      "22         $23,775,506  2017\n",
      "23         $23,500,000  2017\n",
      "24         $23,112,004  2017\n",
      "25         $23,112,004  2017\n",
      "26         $23,000,000  2017\n",
      "27         $22,642,350  2017\n",
      "28         $22,642,350  2017\n",
      "29         $22,642,350  2017\n"
     ]
    }
   ],
   "source": [
    "print (df.shape)\n",
    "print (df.head(30))\n"
   ]
  },
  {
   "cell_type": "code",
   "execution_count": null,
   "id": "13319197-7372-4330-8b3e-0f873000ce74",
   "metadata": {},
   "outputs": [],
   "source": []
  }
 ],
 "metadata": {
  "kernelspec": {
   "display_name": "Python 3",
   "language": "python",
   "name": "python3"
  },
  "language_info": {
   "codemirror_mode": {
    "name": "ipython",
    "version": 3
   },
   "file_extension": ".py",
   "mimetype": "text/x-python",
   "name": "python",
   "nbconvert_exporter": "python",
   "pygments_lexer": "ipython3",
   "version": "3.8.10"
  }
 },
 "nbformat": 4,
 "nbformat_minor": 5
}
