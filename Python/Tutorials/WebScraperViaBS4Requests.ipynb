{
 "cells": [
  {
   "cell_type": "code",
   "execution_count": 44,
   "id": "774c9b97-3bdc-42bb-8998-b40181d14229",
   "metadata": {},
   "outputs": [
    {
     "name": "stdout",
     "output_type": "stream",
     "text": [
      "200\n",
      "<a href=\"/intl/en/about.html\">About Google</a>\n",
      "/intl/en/about.html\n"
     ]
    }
   ],
   "source": [
    "#Name: Abel\n",
    "#Date Started: 2021.07.14\n",
    "#Purpose: (Tutorial) To import only links with \"About\" from google.com\n",
    "#Source/Credits: freeCodeCamp.org - https://www.youtube.com/watch?v=87Gx3U0BDlo\n",
    "\n",
    "from bs4 import BeautifulSoup\n",
    "#import pandas as pd\n",
    "import requests\n",
    "\n",
    "result = requests.get(\"https://www.google.com/\")\n",
    "print (result.status_code) #sanity check to ensure that the site exists, should return 200\n",
    "#print (result.headers)\n",
    "src = result.content #saves the entire source code...\n",
    "#print (src)\n",
    "soup = BeautifulSoup (src, 'lxml') #converts source to beautifulsoup object/format/?\n",
    "links = soup.find_all(\"a\") #finds all the \"a\" tags (html links)\n",
    "#print (links)\n",
    "for link in links:\n",
    "    if \"About\" in link.text:\n",
    "        print (link)\n",
    "        print (link.attrs['href'])\n",
    "\n",
    "\n",
    "        \n"
   ]
  },
  {
   "cell_type": "code",
   "execution_count": 42,
   "id": "6155092b-cec6-4a3c-9ae6-cf1c99b159f2",
   "metadata": {},
   "outputs": [
    {
     "name": "stdout",
     "output_type": "stream",
     "text": [
      "['https://www.whitehouse.gov/briefing-room/statements-releases/2021/07/15/fact-sheet-biden-harris-administration-distributes-first-monthly-payments-of-the-expanded-child-tax-credit/', 'https://www.whitehouse.gov/briefing-room/statements-releases/2021/07/15/president-joseph-r-biden-jr-approves-michigan-disaster-declaration/', 'https://www.whitehouse.gov/briefing-room/statements-releases/2021/07/15/statement-by-president-joseph-r-biden-jr-on-two-million-americans-signing-up-for-health-coverage-and-launching-the-summer-sprint-to-coverage-campaign/', 'https://www.whitehouse.gov/briefing-room/presidential-actions/2021/07/15/a-proclamation-on-national-atomic-veterans-day-2021/', 'https://www.whitehouse.gov/briefing-room/press-briefings/2021/07/15/background-press-call-by-senior-administration-officials-on-the-official-working-visit-of-chancellor-merkel-of-germany/', 'https://www.whitehouse.gov/briefing-room/press-briefings/2021/07/14/press-briefing-by-press-secretary-jen-psaki-july-14-2021/', 'https://www.whitehouse.gov/briefing-room/speeches-remarks/2021/07/14/remarks-by-president-biden-before-a-meeting-with-bipartisan-governors-and-mayors-to-discuss-the-bipartisan-infrastructure-framework/', 'https://www.whitehouse.gov/briefing-room/statements-releases/2021/07/14/readout-of-the-presidents-discussion-with-the-senate-democratic-caucus/', 'https://www.whitehouse.gov/briefing-room/speeches-remarks/2021/07/14/remarks-by-vice-president-harris-before-meeting-with-disabilities-advocates-to-discuss-voting-rights/', 'https://www.whitehouse.gov/briefing-room/statements-releases/2021/07/14/statement-by-nsc-spokesperson-emily-horne-on-national-security-advisor-jake-sullivans-meeting-with-foreign-minister-jean-yves-le-drian-of-france/']\n"
     ]
    }
   ],
   "source": [
    "#Purpose: (Tutorial) To import only links from whitehouse briefing-room\n",
    "\n",
    "\n",
    "import requests\n",
    "from bs4 import BeautifulSoup\n",
    "\n",
    "result = requests.get(\"https://www.whitehouse.gov/briefings-statements/\") #URL may change\n",
    "soup = BeautifulSoup(src, 'lxml')\n",
    "\n",
    "urls = []\n",
    "for h2_tag in soup.find_all('h2'):\n",
    "    a_tag = h2_tag.find('a')\n",
    "    #print (h2_tag)\n",
    "    #if \"a \" in h2_tag.text:\n",
    "    #   print (f\"HERE!: {h2_tag}\")\n",
    "    #   urls.append(h2_tag.attrs['a']) #original code doesn't work because of new h2 tag w/o a link near title\n",
    "    #print (f\"THE A_TAG: {a_tag}\")\n",
    "    if a_tag != None: #this is NECESSARY for the H2 tags w/o an a_tag...\n",
    "    #        print (\"this is not a none!\")\n",
    "            urls.append(a_tag.attrs['href'])\n",
    "print(urls)\n",
    "        \n"
   ]
  },
  {
   "cell_type": "code",
   "execution_count": 70,
   "id": "bb7f66e5-91f1-47ae-8d3b-cfa0b8644ad0",
   "metadata": {},
   "outputs": [
    {
     "name": "stdout",
     "output_type": "stream",
     "text": [
      "<b another-attribute=\"1\" id=\"verybold\">Test 2</b>\n",
      "<b another-attribute=\"1\" id=\"verybold\">This is another string</b>\n"
     ]
    }
   ],
   "source": [
    "#Purpose: (Tutorial) To manipulate the objects obtained through beautifulsoup\n",
    "\n",
    "from bs4 import BeautifulSoup\n",
    "html_doc = \"\"\"\n",
    "<html><head><title>The Dormouse's story</title></head>\n",
    "<body>\n",
    "<p class=\"title\"><b>The Dormouse's story</b></p>\n",
    "<p class=\"story\">Once upon a time there were three little sisters; their names:\n",
    "<a href=\"http://example.com/elsie\" class=\"sister\" id=\"link1\">Elsie</a>,\n",
    "<a href=\"http://example.com/lacie\" class=\"sister\" id=\"link2\">Lacie</a> and\n",
    "<a href=\"http://example.com/tillie\" class=\"sister\" id=\"link3\">Tillie</a>;\n",
    "and they lived at the bottom of a well.</p>\n",
    "<p class=\"story\">...</p>\n",
    "<b class=\"boldest\">Extremely bold</b>\n",
    "<blockquote class=\"boldest\">Extremely bold</blockquote>\n",
    "<b id=\"1\">Test 1</b>\n",
    "<b another-attribute=\"1\" id=\"verybold\">Test 2</b>\n",
    "\"\"\"\n",
    "\n",
    "with open('index.html', 'w') as f:\n",
    "    f.write(html_doc)\n",
    "\n",
    "soup = BeautifulSoup(html_doc, \"lxml\")\n",
    "#print (soup)\n",
    "#print (soup.prettify()) #prettify's the code (fully indented), but very uncompressed\n",
    "#print (soup.b) # prints the first <b /> tag\n",
    "#print (soup.p) # prints the first <p /> tag ---same as print (soup.find('b'))\n",
    "#print (soup.find_all('b')) # prints the first <b /> tag\n",
    "\n",
    "#can alter the name from <b> to <blockquote> - how to write it back into file?\n",
    "#tag = soup.b\n",
    "#print(tag)\n",
    "#tag.name = \"blockquote\"\n",
    "#print(tag)\n",
    "\n",
    "#**Attributes**\n",
    "#tag = soup.find_all('b')[2]\n",
    "#tag = soup.find_all('b')[3]\n",
    "#print (tag)\n",
    "#print (tag['id'])\n",
    "#print (tag['another-attribute'])\n",
    "#print (type(tag.attrs)) #returns a dictionry of all the attributes\n",
    "#tag ['another-attribute'] = 'a' #change the attribute\n",
    "#del tag['id'] # can delete attributes by specification\n",
    "#del tag['another-attribute']\n",
    "#print (tag)\n",
    "\n",
    "#**Naviagable String**\n",
    "tag = soup.find_all('b')[3]\n",
    "print(tag)\n",
    "#print (tag.string) #extracts the string that is between the tags\n",
    "tag.string.replace_with(\"This is another string\") #can alter the displayable text\n",
    "print (tag)"
   ]
  },
  {
   "cell_type": "code",
   "execution_count": null,
   "id": "d36682bb-25c0-40f2-80a1-ed8d4b7cc840",
   "metadata": {},
   "outputs": [],
   "source": []
  }
 ],
 "metadata": {
  "kernelspec": {
   "display_name": "Python 3",
   "language": "python",
   "name": "python3"
  },
  "language_info": {
   "codemirror_mode": {
    "name": "ipython",
    "version": 3
   },
   "file_extension": ".py",
   "mimetype": "text/x-python",
   "name": "python",
   "nbconvert_exporter": "python",
   "pygments_lexer": "ipython3",
   "version": "3.8.10"
  }
 },
 "nbformat": 4,
 "nbformat_minor": 5
}
